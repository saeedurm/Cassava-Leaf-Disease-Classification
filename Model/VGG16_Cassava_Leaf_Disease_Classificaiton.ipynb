{
 "cells": [
  {
   "cell_type": "code",
   "execution_count": null,
   "metadata": {
    "colab": {
     "base_uri": "https://localhost:8080/"
    },
    "id": "BWr-ca-OVLjH",
    "outputId": "065788a7-143d-49eb-f147-baf8b680389e"
   },
   "outputs": [],
   "source": [
    "import torch\n",
    "\n",
    "# If there's a GPU available...\n",
    "if torch.cuda.is_available():    \n",
    "\n",
    "    # Tell PyTorch to use the GPU.    \n",
    "    device = torch.device(\"cuda\")\n",
    "\n",
    "    print('There are %d GPU(s) available.' % torch.cuda.device_count())\n",
    "\n",
    "    print('We will use the GPU:', torch.cuda.get_device_name(0))\n",
    "\n",
    "# If not...\n",
    "else:\n",
    "    print('No GPU available, using the CPU instead.')\n",
    "    device = torch.device(\"cpu\")"
   ]
  },
  {
   "cell_type": "code",
   "execution_count": null,
   "metadata": {
    "id": "D--wlAu3Va9Y"
   },
   "outputs": [],
   "source": [
    "# Imports here\n",
    "import numpy as np\n",
    "import pandas as pd\n",
    "import matplotlib.pyplot as plt\n",
    "import seaborn as sb\n",
    "import cv2\n",
    "\n",
    "import torch\n",
    "from torch import nn\n",
    "from torch import optim\n",
    "import torch.nn.functional as F\n",
    "from torchvision import datasets, transforms, models"
   ]
  },
  {
   "cell_type": "code",
   "execution_count": null,
   "metadata": {
    "id": "XAI8IH91ViFG"
   },
   "outputs": [],
   "source": [
    "data_dir = 'PyTorch_Image_Classifier/flowers'\n",
    "train_dir = data_dir + '/train'\n",
    "valid_dir = data_dir + '/valid'\n",
    "test_dir = data_dir + '/test'"
   ]
  },
  {
   "cell_type": "code",
   "execution_count": null,
   "metadata": {
    "colab": {
     "base_uri": "https://localhost:8080/"
    },
    "id": "J0LJ4BXZWFh1",
    "outputId": "d710cfe2-3e3d-4354-ef9b-1e23cc15d673"
   },
   "outputs": [],
   "source": [
    "!pip install kaggle "
   ]
  },
  {
   "cell_type": "code",
   "execution_count": null,
   "metadata": {
    "colab": {
     "base_uri": "https://localhost:8080/"
    },
    "id": "zR2jdVLJXl2M",
    "outputId": "4a92dd83-7c11-46f5-8fb9-c647d49f0968"
   },
   "outputs": [],
   "source": [
    "!pip install --upgrade --force-reinstall --no-deps kaggle"
   ]
  },
  {
   "cell_type": "code",
   "execution_count": null,
   "metadata": {
    "colab": {
     "base_uri": "https://localhost:8080/"
    },
    "id": "B-IecLdRV5SH",
    "outputId": "041b1a6b-8fe8-4819-91ba-0ef7cf61142c"
   },
   "outputs": [],
   "source": [
    "import os\n",
    "os.environ['KAGGLE_USERNAME'] = \"\" # username from the json file\n",
    "os.environ['KAGGLE_KEY'] = \"\" # key from the json file\n",
    "!kaggle competitions download -c cassava-leaf-disease-classification # api copied from kaggle"
   ]
  },
  {
   "cell_type": "code",
   "execution_count": null,
   "metadata": {
    "colab": {
     "base_uri": "https://localhost:8080/"
    },
    "id": "5sXCZixCaix5",
    "outputId": "0e75bc6b-735b-477a-d9b8-e64642ca8a67"
   },
   "outputs": [],
   "source": [
    "!unzip cassava-leaf-disease-classification.zip"
   ]
  },
  {
   "cell_type": "code",
   "execution_count": null,
   "metadata": {
    "id": "k3o8FPbPgz0H"
   },
   "outputs": [],
   "source": [
    "df = pd.read_csv(\"train.csv\")"
   ]
  },
  {
   "cell_type": "code",
   "execution_count": null,
   "metadata": {
    "colab": {
     "base_uri": "https://localhost:8080/"
    },
    "id": "TpXsSh6LwHQm",
    "outputId": "bb030e77-06bf-4691-8393-42b66fcb3dc6"
   },
   "outputs": [],
   "source": [
    "df[\"label\"].value_counts()"
   ]
  },
  {
   "cell_type": "code",
   "execution_count": null,
   "metadata": {
    "colab": {
     "base_uri": "https://localhost:8080/",
     "height": 279
    },
    "id": "tfYd8e68wJO5",
    "outputId": "04788035-5aa5-4571-c7dd-93783029579d"
   },
   "outputs": [],
   "source": [
    "import seaborn as sns\n",
    "sns.barplot(x=\"label\", y=df[\"label\"].value_counts() ,data=df);"
   ]
  },
  {
   "cell_type": "code",
   "execution_count": null,
   "metadata": {
    "colab": {
     "base_uri": "https://localhost:8080/",
     "height": 386
    },
    "id": "c-y7IvDIxsRh",
    "outputId": "6e940706-9ce3-4c67-8702-0e1c07abbce8"
   },
   "outputs": [],
   "source": [
    "sns.displot(df, x=df[\"label\"])\n",
    "#plt.bar( height=df[\"label\"].value_counts().sort_values())\n"
   ]
  },
  {
   "cell_type": "code",
   "execution_count": null,
   "metadata": {
    "colab": {
     "base_uri": "https://localhost:8080/"
    },
    "id": "D6il_WZtynwA",
    "outputId": "c3811b48-4eec-48b7-dffc-7c16dacf9974"
   },
   "outputs": [],
   "source": [
    "df[\"label\"].unique()"
   ]
  },
  {
   "cell_type": "code",
   "execution_count": null,
   "metadata": {
    "colab": {
     "base_uri": "https://localhost:8080/"
    },
    "id": "8ISgczoUyphH",
    "outputId": "37fba5a4-50cd-487c-88a1-d1e6258d52a8"
   },
   "outputs": [],
   "source": [
    "np.sort(df[\"label\"].value_counts().sort_values())"
   ]
  },
  {
   "cell_type": "code",
   "execution_count": null,
   "metadata": {
    "colab": {
     "base_uri": "https://localhost:8080/"
    },
    "id": "kofsWqrPzlq1",
    "outputId": "9f0adeef-615b-4cca-db79-931a1cfd3593"
   },
   "outputs": [],
   "source": [
    "df[\"label\"].value_counts().sort_values()/sum(df[\"label\"].value_counts())"
   ]
  },
  {
   "cell_type": "code",
   "execution_count": null,
   "metadata": {
    "colab": {
     "base_uri": "https://localhost:8080/"
    },
    "id": "uZ2NQNXt0PMl",
    "outputId": "74f48d69-579d-4690-f747-b5728712ce9c"
   },
   "outputs": [],
   "source": [
    "df[\"label\"].value_counts().sort_values()"
   ]
  },
  {
   "cell_type": "code",
   "execution_count": null,
   "metadata": {
    "colab": {
     "base_uri": "https://localhost:8080/",
     "height": 402
    },
    "id": "HqzsStLdiaRZ",
    "outputId": "3640686b-1200-4ba4-89f1-dcc15f0538d5"
   },
   "outputs": [],
   "source": [
    "df"
   ]
  },
  {
   "cell_type": "code",
   "execution_count": null,
   "metadata": {
    "id": "CnWoPY9_iL9I"
   },
   "outputs": [],
   "source": [
    "from sklearn.model_selection import train_test_split\n",
    "X_train, X_test, y_train, y_test = train_test_split(df[\"image_id\"], df[\"label\"], test_size=0.20, random_state=42)"
   ]
  },
  {
   "cell_type": "code",
   "execution_count": null,
   "metadata": {
    "id": "YI7znr08iuzw"
   },
   "outputs": [],
   "source": [
    "#y_test.value_counts().sort_values()\n",
    "#X_train.count()\n",
    "#y_train"
   ]
  },
  {
   "cell_type": "code",
   "execution_count": null,
   "metadata": {
    "colab": {
     "base_uri": "https://localhost:8080/"
    },
    "id": "y6WvZscsjv21",
    "outputId": "b05c65b4-d9c9-4812-f9ea-aee37be8f3b8"
   },
   "outputs": [],
   "source": [
    "X_test"
   ]
  },
  {
   "cell_type": "code",
   "execution_count": null,
   "metadata": {
    "id": "a6pgu1bcjK98"
   },
   "outputs": [],
   "source": [
    "#for training and validing\n",
    "train_data, val_data, train_label, val_label = train_test_split(X_train, y_train, test_size=0.20, random_state=42)"
   ]
  },
  {
   "cell_type": "markdown",
   "metadata": {
    "id": "jA0icw3jn8qY"
   },
   "source": [
    "## Skip that part##"
   ]
  },
  {
   "cell_type": "code",
   "execution_count": null,
   "metadata": {
    "id": "JAXhdisJmKnb"
   },
   "outputs": [],
   "source": [
    "path = \"/content/train_images\""
   ]
  },
  {
   "cell_type": "code",
   "execution_count": null,
   "metadata": {
    "colab": {
     "base_uri": "https://localhost:8080/"
    },
    "id": "4fmsqKMXnvvH",
    "outputId": "0e0dba16-7ade-4336-cf05-c7dda21d0662"
   },
   "outputs": [],
   "source": [
    "names_of_disease = pd.read_json('label_num_to_disease_map.json', typ='series')\n",
    "names_of_disease"
   ]
  },
  {
   "cell_type": "code",
   "execution_count": null,
   "metadata": {
    "colab": {
     "base_uri": "https://localhost:8080/",
     "height": 716
    },
    "id": "_jd19IrWmCJa",
    "outputId": "1ae60d32-ce85-4f67-a9f2-5d220772aa64"
   },
   "outputs": [],
   "source": [
    "from PIL import Image\n",
    "plt.figure(figsize=(16, 12))\n",
    "for i in range(9):\n",
    "    plt.subplot(3, 3, i + 1)\n",
    "    image = Image.open('train_images/' + train_data.iloc[i])\n",
    "    array = np.array(image)\n",
    "    plt.imshow(array)\n",
    "    label=train_label.iloc[i]\n",
    "    plt.title(f'{names_of_disease[int(label)]}')\n",
    "plt.show()"
   ]
  },
  {
   "cell_type": "markdown",
   "metadata": {
    "id": "x9Epvj-7oDzQ"
   },
   "source": [
    "## ########################################3"
   ]
  },
  {
   "cell_type": "code",
   "execution_count": null,
   "metadata": {
    "id": "aiSpTKJDtFLA"
   },
   "outputs": [],
   "source": [
    "!mkdir \"train_i\"\n",
    "!mkdir \"val_i\"\n",
    "!mkdir \"test_i\" "
   ]
  },
  {
   "cell_type": "code",
   "execution_count": null,
   "metadata": {
    "id": "IzKZ_LNlpRjy"
   },
   "outputs": [],
   "source": [
    "for label in range(5):\n",
    "  if not os.path.exists(\"train_i/\"+str(label)):\n",
    "    os.makedirs(\"train_i/\"+str(label))\n",
    "  \n",
    "  if not os.path.exists(\"val_i/\"+str(label)):\n",
    "    os.makedirs(\"val_i/\"+str(label))\n",
    "  \n",
    "  if not os.path.exists(\"test_i/\"+str(label)):\n",
    "    os.makedirs(\"test_i/\"+str(label))"
   ]
  },
  {
   "cell_type": "code",
   "execution_count": null,
   "metadata": {
    "colab": {
     "base_uri": "https://localhost:8080/"
    },
    "id": "P6rrFHrEtlpm",
    "outputId": "b3f6ae7c-ee9b-4260-edf0-a8ac40f3b86c"
   },
   "outputs": [],
   "source": [
    "import os\n",
    "import shutil \n",
    "import os\n",
    "\n",
    "for x,label in zip(train_data,train_label):\n",
    "  #cmd = f\"cp -a /train_images/{x}/. /train_1/\"\n",
    "\n",
    "  send_path = \"/content/train_images/\"+x\n",
    "  print(send_path)\n",
    "  #!mv send_path \"/train_1\"\n",
    "  shutil.move(send_path, \"/content/train_i/\"+str(label)) \n",
    "  "
   ]
  },
  {
   "cell_type": "code",
   "execution_count": null,
   "metadata": {
    "colab": {
     "base_uri": "https://localhost:8080/"
    },
    "id": "4DTWt2jM44q0",
    "outputId": "1955d2c4-5ba0-48a1-c6b9-5955e74fa763"
   },
   "outputs": [],
   "source": [
    "for x,label in zip(val_data,val_label):\n",
    "  #cmd = f\"cp -a /train_images/{x}/. /train_1/\"\n",
    "  send_path = \"/content/train_images/\"+x\n",
    "  print(send_path)\n",
    "  #!mv send_path \"/train_1\"\n",
    "  shutil.move(send_path, \"/content/val_i/\"+str(label)) "
   ]
  },
  {
   "cell_type": "code",
   "execution_count": null,
   "metadata": {
    "colab": {
     "base_uri": "https://localhost:8080/"
    },
    "id": "9awKJcQ_45js",
    "outputId": "1064931c-eb92-41c6-eaea-0308d94cd330"
   },
   "outputs": [],
   "source": [
    "for x,label in zip(X_test,y_test):\n",
    "  #cmd = f\"cp -a /train_images/{x}/. /train_1/\"\n",
    "  send_path = \"/content/train_images/\"+x\n",
    "  print(send_path)\n",
    "  #!mv send_path \"/train_1\"\n",
    "  shutil.move(send_path, \"/content/test_i/\"+str(label)) "
   ]
  },
  {
   "cell_type": "code",
   "execution_count": null,
   "metadata": {
    "id": "1Rm-cDLpmziY"
   },
   "outputs": [],
   "source": []
  },
  {
   "cell_type": "code",
   "execution_count": null,
   "metadata": {
    "id": "zXTtGwjK03h6"
   },
   "outputs": [],
   "source": [
    "training_transforms = transforms.Compose([transforms.RandomRotation(30),\n",
    "                                          transforms.RandomResizedCrop(224),\n",
    "                                          transforms.RandomHorizontalFlip(),\n",
    "                                          transforms.ToTensor(),\n",
    "                                          transforms.Normalize([0.485, 0.456, 0.406], \n",
    "                                                               [0.229, 0.224, 0.225])])\n",
    "\n",
    "validation_transforms = transforms.Compose([transforms.Resize(256),\n",
    "                                            transforms.CenterCrop(224),\n",
    "                                            transforms.ToTensor(),\n",
    "                                            transforms.Normalize([0.485, 0.456, 0.406], \n",
    "                                                                 [0.229, 0.224, 0.225])])\n",
    "\n",
    "testing_transforms = transforms.Compose([transforms.Resize(256),\n",
    "                                         transforms.CenterCrop(224),\n",
    "                                         transforms.ToTensor(),\n",
    "                                         transforms.Normalize([0.485, 0.456, 0.406], \n",
    "                                                              [0.229, 0.224, 0.225])])\n",
    "\n",
    "# TODO: Load the datasets with ImageFolder\n",
    "training_dataset = datasets.ImageFolder(\"train_i/\", transform=training_transforms)\n",
    "validation_dataset = datasets.ImageFolder(\"val_i/\", transform=validation_transforms)\n",
    "testing_dataset = datasets.ImageFolder(\"test_i/\", transform=testing_transforms)\n",
    "\n",
    "# TODO: Using the image datasets and the trainforms, define the dataloaders\n",
    "train_loader = torch.utils.data.DataLoader(training_dataset, batch_size=64, shuffle=True)\n",
    "validate_loader = torch.utils.data.DataLoader(validation_dataset, batch_size=32)\n",
    "test_loader = torch.utils.data.DataLoader(testing_dataset, batch_size=32)"
   ]
  },
  {
   "cell_type": "markdown",
   "metadata": {
    "id": "yTR7CYD_9nj8"
   },
   "source": [
    "#TIME TO BUILD THE MODEL"
   ]
  },
  {
   "cell_type": "code",
   "execution_count": null,
   "metadata": {
    "colab": {
     "base_uri": "https://localhost:8080/",
     "height": 876,
     "referenced_widgets": [
      "45c5d6cd47a8457ab5c467f4d8ac5d55",
      "611eaa2dfcd24d5ea2494a39623675d2",
      "d230bcdb0a5e4766bafa3c737eb4b160",
      "ff333fd7f9054bceb93125493f28d7e5",
      "75c8102854c8458ba0d3dd6ea8c178c5",
      "3d129691c40547f09fcf82600edac15d",
      "54eae94c8f0849588c8fc8ba9d0a85c0",
      "0e9d09bf0aff41f1b6296f9e7c80e8c5"
     ]
    },
    "id": "gUvOSAFe8Fx7",
    "outputId": "bf6fd345-46d4-491b-cd5a-87d6b02f47f8"
   },
   "outputs": [],
   "source": [
    "# Build and train your network\n",
    "# Transfer Learning\n",
    "model = models.vgg16(pretrained=True)\n",
    "model"
   ]
  },
  {
   "cell_type": "code",
   "execution_count": null,
   "metadata": {
    "id": "xGf8d7kg9txH"
   },
   "outputs": [],
   "source": [
    "\n",
    "# Freeze pretrained model parameters to avoid backpropogating through them\n",
    "for parameter in model.parameters():\n",
    "    parameter.requires_grad = False\n",
    "\n",
    "\n",
    "from collections import OrderedDict\n",
    "\n",
    "# Build custom classifier\n",
    "classifier = nn.Sequential(OrderedDict([('fc1', nn.Linear(25088, 5000)),\n",
    "                                        ('relu', nn.ReLU()),\n",
    "                                        ('drop', nn.Dropout(p=0.5)),\n",
    "                                        ('fc2', nn.Linear(5000, 5)),\n",
    "                                        ('output', nn.LogSoftmax(dim=1))]))\n",
    "\n",
    "model.classifier = classifier"
   ]
  },
  {
   "cell_type": "code",
   "execution_count": null,
   "metadata": {
    "id": "qiyAq4nL-Evm"
   },
   "outputs": [],
   "source": [
    "# Function for the validation pass\n",
    "def validation(model, validateloader, criterion):\n",
    "    \n",
    "    val_loss = 0\n",
    "    accuracy = 0\n",
    "    \n",
    "    for images, labels in iter(validateloader):\n",
    "\n",
    "        images, labels = images.to('cuda'), labels.to('cuda')\n",
    "\n",
    "        output = model.forward(images)\n",
    "        val_loss += criterion(output, labels).item()\n",
    "\n",
    "        probabilities = torch.exp(output)\n",
    "        \n",
    "        equality = (labels.data == probabilities.max(dim=1)[1])\n",
    "        accuracy += equality.type(torch.FloatTensor).mean()\n",
    "    \n",
    "    return val_loss, accuracy"
   ]
  },
  {
   "cell_type": "code",
   "execution_count": null,
   "metadata": {
    "colab": {
     "base_uri": "https://localhost:8080/"
    },
    "id": "d0ZXMDYJrbmA",
    "outputId": "54248736-c90c-4413-d92b-0a46c92904f8"
   },
   "outputs": [],
   "source": [
    "train_label.value_counts()"
   ]
  },
  {
   "cell_type": "code",
   "execution_count": null,
   "metadata": {
    "colab": {
     "base_uri": "https://localhost:8080/"
    },
    "id": "PeRJvt7ipp9K",
    "outputId": "b22dcfdf-e99c-4805-8224-398314413f8b"
   },
   "outputs": [],
   "source": [
    "#train_data\n",
    "(1 - train_label.value_counts()/len(train_label)) / sum(1 - train_label.value_counts()/len(train_label))\n",
    "#len(train_label)"
   ]
  },
  {
   "cell_type": "code",
   "execution_count": null,
   "metadata": {
    "id": "YNuZjdJd-JPO"
   },
   "outputs": [],
   "source": [
    "# Loss function and gradient descent\n",
    "weights = [0.24, 0.22, 0.22, 0.10, 0.22]\n",
    "class_weights = torch.FloatTensor(weights).cuda()\n",
    "#self.criterion = nn.CrossEntropyLoss(weight=class_weights)\n",
    "\n",
    "\n",
    "criterion = nn.NLLLoss(weight=class_weights)\n",
    "\n",
    "optimizer = optim.Adam(model.classifier.parameters(), lr=0.0001)"
   ]
  },
  {
   "cell_type": "code",
   "execution_count": null,
   "metadata": {
    "colab": {
     "base_uri": "https://localhost:8080/"
    },
    "id": "VZjO_bAx-N-S",
    "outputId": "a8ef6ca3-c6ac-4994-eab2-f9af82883938"
   },
   "outputs": [],
   "source": [
    "# Train the classifier\n",
    "\n",
    "#from workspace_utils import active_session\n",
    "\n",
    "def train_classifier():\n",
    "\n",
    "    #with active_session():\n",
    "\n",
    "      epochs = 10\n",
    "      steps = 0\n",
    "      print_every = 40\n",
    "\n",
    "      model.to('cuda')\n",
    "\n",
    "      for e in range(epochs):\n",
    "      \n",
    "          model.train()\n",
    "  \n",
    "          running_loss = 0\n",
    "  \n",
    "          for images, labels in iter(train_loader):\n",
    "      \n",
    "              steps += 1\n",
    "      \n",
    "              images, labels = images.to('cuda'), labels.to('cuda')\n",
    "      \n",
    "              optimizer.zero_grad()\n",
    "      \n",
    "              output = model.forward(images)\n",
    "              loss = criterion(output, labels)\n",
    "              loss.backward()\n",
    "              optimizer.step()\n",
    "      \n",
    "              running_loss += loss.item()\n",
    "      \n",
    "              if steps % print_every == 0:\n",
    "              \n",
    "                  model.eval()\n",
    "              \n",
    "                  # Turn off gradients for validation, saves memory and computations\n",
    "                  with torch.no_grad():\n",
    "                      validation_loss, accuracy = validation(model, validate_loader, criterion)\n",
    "          \n",
    "                  print(\"Epoch: {}/{}.. \".format(e+1, epochs),\n",
    "                        \"Training Loss: {:.3f}.. \".format(running_loss/print_every),\n",
    "                        \"Validation Loss: {:.3f}.. \".format(validation_loss/len(validate_loader)),\n",
    "                        \"Validation Accuracy: {:.3f}\".format(accuracy/len(validate_loader)))\n",
    "          \n",
    "                  running_loss = 0\n",
    "                  model.train()\n",
    "                  \n",
    "train_classifier()"
   ]
  },
  {
   "cell_type": "code",
   "execution_count": null,
   "metadata": {
    "colab": {
     "base_uri": "https://localhost:8080/"
    },
    "id": "INZ-Z0q1-ShF",
    "outputId": "16b72d9a-c552-48af-b73d-d0009548bb54"
   },
   "outputs": [],
   "source": [
    "def test_accuracy(model, test_loader):\n",
    "\n",
    "    # Do validation on the test set\n",
    "    model.eval()\n",
    "    model.to('cuda')\n",
    "\n",
    "    with torch.no_grad():\n",
    "    \n",
    "        accuracy = 0\n",
    "    \n",
    "        for images, labels in iter(test_loader):\n",
    "    \n",
    "            images, labels = images.to('cuda'), labels.to('cuda')\n",
    "    \n",
    "            output = model.forward(images)\n",
    "\n",
    "            probabilities = torch.exp(output)\n",
    "        \n",
    "            equality = (labels.data == probabilities.max(dim=1)[1])\n",
    "        \n",
    "            accuracy += equality.type(torch.FloatTensor).mean()\n",
    "        \n",
    "        print(\"Test Accuracy: {}\".format(accuracy/len(test_loader)))    \n",
    "        \n",
    "        \n",
    "test_accuracy(model, test_loader)"
   ]
  },
  {
   "cell_type": "code",
   "execution_count": null,
   "metadata": {
    "id": "nSzXbG1Iu86Q"
   },
   "outputs": [],
   "source": [
    "def save_checkpoint(model):\n",
    "\n",
    "    model.class_to_idx = training_dataset.class_to_idx\n",
    "\n",
    "    checkpoint = {'arch': \"vgg16\",\n",
    "                  'class_to_idx': model.class_to_idx,\n",
    "                  'model_state_dict': model.state_dict()\n",
    "                 }\n",
    "\n",
    "    torch.save(checkpoint, 'checkpoint.pth')\n",
    "    \n",
    "save_checkpoint(model)"
   ]
  },
  {
   "cell_type": "code",
   "execution_count": null,
   "metadata": {
    "id": "vTzAw_cEvkZy"
   },
   "outputs": [],
   "source": [
    "from collections import OrderedDict\n",
    "\n",
    "# Function that loads a checkpoint and rebuilds the model\n",
    "\n",
    "def load_checkpoint(filepath):\n",
    "    \n",
    "    checkpoint = torch.load(filepath)\n",
    "    \n",
    "    if checkpoint['arch'] == 'vgg16':\n",
    "        \n",
    "        model = models.vgg16(pretrained=True)\n",
    "        \n",
    "        for param in model.parameters():\n",
    "            param.requires_grad = False\n",
    "    else:\n",
    "        print(\"Architecture not recognized.\")\n",
    "    \n",
    "    model.class_to_idx = checkpoint['class_to_idx']\n",
    "    \n",
    "    classifier = nn.Sequential(OrderedDict([('fc1', nn.Linear(25088, 5000)),\n",
    "                                            ('relu', nn.ReLU()),\n",
    "                                            ('drop', nn.Dropout(p=0.5)),\n",
    "                                            ('fc2', nn.Linear(5000, 5)),\n",
    "                                            ('output', nn.LogSoftmax(dim=1))]))\n",
    "\n",
    "    model.classifier = classifier\n",
    "    \n",
    "    model.load_state_dict(checkpoint['model_state_dict'])\n",
    "    \n",
    "    return model\n",
    "\n",
    "#model = load_checkpoint('checkpoint.pth')\n",
    "#print(model)"
   ]
  }
 ],
 "metadata": {
  "accelerator": "GPU",
  "colab": {
   "collapsed_sections": [],
   "name": "VGG16_Cassava_Leaf_Disease_Classificaiton.ipynb",
   "provenance": [],
   "toc_visible": true
  },
  "kernelspec": {
   "display_name": "Python 3",
   "language": "python",
   "name": "python3"
  },
  "language_info": {
   "codemirror_mode": {
    "name": "ipython",
    "version": 3
   },
   "file_extension": ".py",
   "mimetype": "text/x-python",
   "name": "python",
   "nbconvert_exporter": "python",
   "pygments_lexer": "ipython3",
   "version": "3.7.4"
  },
  "widgets": {
   "application/vnd.jupyter.widget-state+json": {
    "0e9d09bf0aff41f1b6296f9e7c80e8c5": {
     "model_module": "@jupyter-widgets/base",
     "model_name": "LayoutModel",
     "state": {
      "_model_module": "@jupyter-widgets/base",
      "_model_module_version": "1.2.0",
      "_model_name": "LayoutModel",
      "_view_count": null,
      "_view_module": "@jupyter-widgets/base",
      "_view_module_version": "1.2.0",
      "_view_name": "LayoutView",
      "align_content": null,
      "align_items": null,
      "align_self": null,
      "border": null,
      "bottom": null,
      "display": null,
      "flex": null,
      "flex_flow": null,
      "grid_area": null,
      "grid_auto_columns": null,
      "grid_auto_flow": null,
      "grid_auto_rows": null,
      "grid_column": null,
      "grid_gap": null,
      "grid_row": null,
      "grid_template_areas": null,
      "grid_template_columns": null,
      "grid_template_rows": null,
      "height": null,
      "justify_content": null,
      "justify_items": null,
      "left": null,
      "margin": null,
      "max_height": null,
      "max_width": null,
      "min_height": null,
      "min_width": null,
      "object_fit": null,
      "object_position": null,
      "order": null,
      "overflow": null,
      "overflow_x": null,
      "overflow_y": null,
      "padding": null,
      "right": null,
      "top": null,
      "visibility": null,
      "width": null
     }
    },
    "3d129691c40547f09fcf82600edac15d": {
     "model_module": "@jupyter-widgets/base",
     "model_name": "LayoutModel",
     "state": {
      "_model_module": "@jupyter-widgets/base",
      "_model_module_version": "1.2.0",
      "_model_name": "LayoutModel",
      "_view_count": null,
      "_view_module": "@jupyter-widgets/base",
      "_view_module_version": "1.2.0",
      "_view_name": "LayoutView",
      "align_content": null,
      "align_items": null,
      "align_self": null,
      "border": null,
      "bottom": null,
      "display": null,
      "flex": null,
      "flex_flow": null,
      "grid_area": null,
      "grid_auto_columns": null,
      "grid_auto_flow": null,
      "grid_auto_rows": null,
      "grid_column": null,
      "grid_gap": null,
      "grid_row": null,
      "grid_template_areas": null,
      "grid_template_columns": null,
      "grid_template_rows": null,
      "height": null,
      "justify_content": null,
      "justify_items": null,
      "left": null,
      "margin": null,
      "max_height": null,
      "max_width": null,
      "min_height": null,
      "min_width": null,
      "object_fit": null,
      "object_position": null,
      "order": null,
      "overflow": null,
      "overflow_x": null,
      "overflow_y": null,
      "padding": null,
      "right": null,
      "top": null,
      "visibility": null,
      "width": null
     }
    },
    "45c5d6cd47a8457ab5c467f4d8ac5d55": {
     "model_module": "@jupyter-widgets/controls",
     "model_name": "HBoxModel",
     "state": {
      "_dom_classes": [],
      "_model_module": "@jupyter-widgets/controls",
      "_model_module_version": "1.5.0",
      "_model_name": "HBoxModel",
      "_view_count": null,
      "_view_module": "@jupyter-widgets/controls",
      "_view_module_version": "1.5.0",
      "_view_name": "HBoxView",
      "box_style": "",
      "children": [
       "IPY_MODEL_d230bcdb0a5e4766bafa3c737eb4b160",
       "IPY_MODEL_ff333fd7f9054bceb93125493f28d7e5"
      ],
      "layout": "IPY_MODEL_611eaa2dfcd24d5ea2494a39623675d2"
     }
    },
    "54eae94c8f0849588c8fc8ba9d0a85c0": {
     "model_module": "@jupyter-widgets/controls",
     "model_name": "DescriptionStyleModel",
     "state": {
      "_model_module": "@jupyter-widgets/controls",
      "_model_module_version": "1.5.0",
      "_model_name": "DescriptionStyleModel",
      "_view_count": null,
      "_view_module": "@jupyter-widgets/base",
      "_view_module_version": "1.2.0",
      "_view_name": "StyleView",
      "description_width": ""
     }
    },
    "611eaa2dfcd24d5ea2494a39623675d2": {
     "model_module": "@jupyter-widgets/base",
     "model_name": "LayoutModel",
     "state": {
      "_model_module": "@jupyter-widgets/base",
      "_model_module_version": "1.2.0",
      "_model_name": "LayoutModel",
      "_view_count": null,
      "_view_module": "@jupyter-widgets/base",
      "_view_module_version": "1.2.0",
      "_view_name": "LayoutView",
      "align_content": null,
      "align_items": null,
      "align_self": null,
      "border": null,
      "bottom": null,
      "display": null,
      "flex": null,
      "flex_flow": null,
      "grid_area": null,
      "grid_auto_columns": null,
      "grid_auto_flow": null,
      "grid_auto_rows": null,
      "grid_column": null,
      "grid_gap": null,
      "grid_row": null,
      "grid_template_areas": null,
      "grid_template_columns": null,
      "grid_template_rows": null,
      "height": null,
      "justify_content": null,
      "justify_items": null,
      "left": null,
      "margin": null,
      "max_height": null,
      "max_width": null,
      "min_height": null,
      "min_width": null,
      "object_fit": null,
      "object_position": null,
      "order": null,
      "overflow": null,
      "overflow_x": null,
      "overflow_y": null,
      "padding": null,
      "right": null,
      "top": null,
      "visibility": null,
      "width": null
     }
    },
    "75c8102854c8458ba0d3dd6ea8c178c5": {
     "model_module": "@jupyter-widgets/controls",
     "model_name": "ProgressStyleModel",
     "state": {
      "_model_module": "@jupyter-widgets/controls",
      "_model_module_version": "1.5.0",
      "_model_name": "ProgressStyleModel",
      "_view_count": null,
      "_view_module": "@jupyter-widgets/base",
      "_view_module_version": "1.2.0",
      "_view_name": "StyleView",
      "bar_color": null,
      "description_width": "initial"
     }
    },
    "d230bcdb0a5e4766bafa3c737eb4b160": {
     "model_module": "@jupyter-widgets/controls",
     "model_name": "FloatProgressModel",
     "state": {
      "_dom_classes": [],
      "_model_module": "@jupyter-widgets/controls",
      "_model_module_version": "1.5.0",
      "_model_name": "FloatProgressModel",
      "_view_count": null,
      "_view_module": "@jupyter-widgets/controls",
      "_view_module_version": "1.5.0",
      "_view_name": "ProgressView",
      "bar_style": "success",
      "description": "100%",
      "description_tooltip": null,
      "layout": "IPY_MODEL_3d129691c40547f09fcf82600edac15d",
      "max": 553433881,
      "min": 0,
      "orientation": "horizontal",
      "style": "IPY_MODEL_75c8102854c8458ba0d3dd6ea8c178c5",
      "value": 553433881
     }
    },
    "ff333fd7f9054bceb93125493f28d7e5": {
     "model_module": "@jupyter-widgets/controls",
     "model_name": "HTMLModel",
     "state": {
      "_dom_classes": [],
      "_model_module": "@jupyter-widgets/controls",
      "_model_module_version": "1.5.0",
      "_model_name": "HTMLModel",
      "_view_count": null,
      "_view_module": "@jupyter-widgets/controls",
      "_view_module_version": "1.5.0",
      "_view_name": "HTMLView",
      "description": "",
      "description_tooltip": null,
      "layout": "IPY_MODEL_0e9d09bf0aff41f1b6296f9e7c80e8c5",
      "placeholder": "​",
      "style": "IPY_MODEL_54eae94c8f0849588c8fc8ba9d0a85c0",
      "value": " 528M/528M [48:49&lt;00:00, 189kB/s]"
     }
    }
   }
  }
 },
 "nbformat": 4,
 "nbformat_minor": 1
}
